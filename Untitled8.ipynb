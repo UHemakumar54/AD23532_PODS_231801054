{
  "nbformat": 4,
  "nbformat_minor": 0,
  "metadata": {
    "colab": {
      "provenance": []
    },
    "kernelspec": {
      "name": "python3",
      "display_name": "Python 3"
    },
    "language_info": {
      "name": "python"
    }
  },
  "cells": [
    {
      "cell_type": "code",
      "execution_count": null,
      "metadata": {
        "id": "smH_eb3eel6c"
      },
      "outputs": [],
      "source": [
        "import pandas as pd\n",
        "import numpy as np\n",
        "import seaborn as sns\n",
        "import matplotlib.pyplot as plt\n",
        "from sklearn.impute import SimpleImputer\n",
        "from sklearn.model_selection import train_test_split\n"
      ]
    },
    {
      "cell_type": "code",
      "source": [
        "df = pd.read_csv('titanic.csv')\n",
        "\n"
      ],
      "metadata": {
        "id": "rcK5bZMdfb2n"
      },
      "execution_count": null,
      "outputs": []
    },
    {
      "cell_type": "code",
      "source": [
        "print(df.shape)\n",
        "print(df.info())\n",
        "print(df.describe(include='all'))\n"
      ],
      "metadata": {
        "colab": {
          "base_uri": "https://localhost:8080/"
        },
        "id": "Kqq4ewy_g-ja",
        "outputId": "e6b5e9d5-4f72-4153-a35e-0e732de3c7b5"
      },
      "execution_count": null,
      "outputs": [
        {
          "output_type": "stream",
          "name": "stdout",
          "text": [
            "(891, 12)\n",
            "<class 'pandas.core.frame.DataFrame'>\n",
            "RangeIndex: 891 entries, 0 to 890\n",
            "Data columns (total 12 columns):\n",
            " #   Column       Non-Null Count  Dtype  \n",
            "---  ------       --------------  -----  \n",
            " 0   PassengerId  891 non-null    int64  \n",
            " 1   Survived     891 non-null    int64  \n",
            " 2   Pclass       891 non-null    int64  \n",
            " 3   Name         891 non-null    object \n",
            " 4   Sex          891 non-null    object \n",
            " 5   Age          714 non-null    float64\n",
            " 6   SibSp        891 non-null    int64  \n",
            " 7   Parch        891 non-null    int64  \n",
            " 8   Ticket       891 non-null    object \n",
            " 9   Fare         891 non-null    float64\n",
            " 10  Cabin        204 non-null    object \n",
            " 11  Embarked     889 non-null    object \n",
            "dtypes: float64(2), int64(5), object(5)\n",
            "memory usage: 83.7+ KB\n",
            "None\n",
            "        PassengerId    Survived      Pclass                 Name   Sex  \\\n",
            "count    891.000000  891.000000  891.000000                  891   891   \n",
            "unique          NaN         NaN         NaN                  891     2   \n",
            "top             NaN         NaN         NaN  Dooley, Mr. Patrick  male   \n",
            "freq            NaN         NaN         NaN                    1   577   \n",
            "mean     446.000000    0.383838    2.308642                  NaN   NaN   \n",
            "std      257.353842    0.486592    0.836071                  NaN   NaN   \n",
            "min        1.000000    0.000000    1.000000                  NaN   NaN   \n",
            "25%      223.500000    0.000000    2.000000                  NaN   NaN   \n",
            "50%      446.000000    0.000000    3.000000                  NaN   NaN   \n",
            "75%      668.500000    1.000000    3.000000                  NaN   NaN   \n",
            "max      891.000000    1.000000    3.000000                  NaN   NaN   \n",
            "\n",
            "               Age       SibSp       Parch  Ticket        Fare Cabin Embarked  \n",
            "count   714.000000  891.000000  891.000000     891  891.000000   204      889  \n",
            "unique         NaN         NaN         NaN     681         NaN   147        3  \n",
            "top            NaN         NaN         NaN  347082         NaN    G6        S  \n",
            "freq           NaN         NaN         NaN       7         NaN     4      644  \n",
            "mean     29.699118    0.523008    0.381594     NaN   32.204208   NaN      NaN  \n",
            "std      14.526497    1.102743    0.806057     NaN   49.693429   NaN      NaN  \n",
            "min       0.420000    0.000000    0.000000     NaN    0.000000   NaN      NaN  \n",
            "25%      20.125000    0.000000    0.000000     NaN    7.910400   NaN      NaN  \n",
            "50%      28.000000    0.000000    0.000000     NaN   14.454200   NaN      NaN  \n",
            "75%      38.000000    1.000000    0.000000     NaN   31.000000   NaN      NaN  \n",
            "max      80.000000    8.000000    6.000000     NaN  512.329200   NaN      NaN  \n"
          ]
        }
      ]
    },
    {
      "cell_type": "code",
      "source": [
        "\n",
        "age_imputer = SimpleImputer(strategy='mean')\n",
        "df['Age'] = age_imputer.fit_transform(df[['Age']])\n",
        "df['Cabin'] = df['Cabin'].fillna(\"Unknown\")\n",
        "df['Embarked'] = df['Embarked'].fillna(df['Embarked'].mode()[0])\n"
      ],
      "metadata": {
        "id": "GvfvaY2ohEKg"
      },
      "execution_count": null,
      "outputs": []
    },
    {
      "cell_type": "code",
      "source": [
        "sns.countplot(x='Pclass', data=df)\n",
        "plt.title('Passenger Class Distribution')\n",
        "plt.show()\n"
      ],
      "metadata": {
        "colab": {
          "base_uri": "https://localhost:8080/",
          "height": 472
        },
        "id": "cX9jzPi6hSiY",
        "outputId": "54060b27-c028-4b82-8ff3-4a0a4a4934c6"
      },
      "execution_count": null,
      "outputs": [
        {
          "output_type": "display_data",
          "data": {
            "text/plain": [
              "<Figure size 640x480 with 1 Axes>"
            ],
            "image/png": "[encoded data removed]"
          },
          "metadata": {}
        }
      ]
    },
    {
      "cell_type": "code",
      "source": [
        "female_survivors = df[(df['Sex'] == 'female') & (df['Survived'] == 1)]\n",
        "print(female_survivors[['Name']])\n"
      ],
      "metadata": {
        "colab": {
          "base_uri": "https://localhost:8080/"
        },
        "id": "ktp8CiUohT9S",
        "outputId": "0b269667-8e71-45e5-dd52-fa02452afa22"
      },
      "execution_count": null,
      "outputs": [
        {
          "output_type": "stream",
          "name": "stdout",
          "text": [
            "                                                  Name\n",
            "1    Cumings, Mrs. John Bradley (Florence Briggs Th...\n",
            "2                               Heikkinen, Miss. Laina\n",
            "3         Futrelle, Mrs. Jacques Heath (Lily May Peel)\n",
            "8    Johnson, Mrs. Oscar W (Elisabeth Vilhelmina Berg)\n",
            "9                  Nasser, Mrs. Nicholas (Adele Achem)\n",
            "..                                                 ...\n",
            "874              Abelson, Mrs. Samuel (Hannah Wizosky)\n",
            "875                   Najib, Miss. Adele Kiamie \"Jane\"\n",
            "879      Potter, Mrs. Thomas Jr (Lily Alexenia Wilson)\n",
            "880       Shelley, Mrs. William (Imanita Parrish Hall)\n",
            "887                       Graham, Miss. Margaret Edith\n",
            "\n",
            "[233 rows x 1 columns]\n"
          ]
        }
      ]
    },
    {
      "cell_type": "code",
      "source": [
        "group_3_under_18 = df[(df['Pclass'] == 3) & (df['Age'] < 18)]\n",
        "print(group_3_under_18)\n"
      ],
      "metadata": {
        "colab": {
          "base_uri": "https://localhost:8080/"
        },
        "id": "Y1OJzej8hY7_",
        "outputId": "c8a09579-c5ff-49ac-b790-f8666d4a8b3d"
      },
      "execution_count": null,
      "outputs": [
        {
          "output_type": "stream",
          "name": "stdout",
          "text": [
            "     PassengerId  Survived  Pclass                                     Name  \\\n",
            "7              8         0       3           Palsson, Master. Gosta Leonard   \n",
            "10            11         1       3          Sandstrom, Miss. Marguerite Rut   \n",
            "14            15         0       3     Vestrom, Miss. Hulda Amanda Adolfina   \n",
            "16            17         0       3                     Rice, Master. Eugene   \n",
            "22            23         1       3              McGowan, Miss. Anna \"Annie\"   \n",
            "..           ...       ...     ...                                      ...   \n",
            "844          845         0       3                      Culumovic, Mr. Jeso   \n",
            "850          851         0       3  Andersson, Master. Sigvard Harald Elias   \n",
            "852          853         0       3                  Boulos, Miss. Nourelain   \n",
            "869          870         1       3          Johnson, Master. Harold Theodor   \n",
            "875          876         1       3         Najib, Miss. Adele Kiamie \"Jane\"   \n",
            "\n",
            "        Sex   Age  SibSp  Parch   Ticket     Fare    Cabin Embarked  \n",
            "7      male   2.0      3      1   349909  21.0750  Unknown        S  \n",
            "10   female   4.0      1      1  PP 9549  16.7000       G6        S  \n",
            "14   female  14.0      0      0   350406   7.8542  Unknown        S  \n",
            "16     male   2.0      4      1   382652  29.1250  Unknown        Q  \n",
            "22   female  15.0      0      0   330923   8.0292  Unknown        Q  \n",
            "..      ...   ...    ...    ...      ...      ...      ...      ...  \n",
            "844    male  17.0      0      0   315090   8.6625  Unknown        S  \n",
            "850    male   4.0      4      2   347082  31.2750  Unknown        S  \n",
            "852  female   9.0      1      1     2678  15.2458  Unknown        C  \n",
            "869    male   4.0      1      1   347742  11.1333  Unknown        S  \n",
            "875  female  15.0      0      0     2667   7.2250  Unknown        C  \n",
            "\n",
            "[78 rows x 12 columns]\n"
          ]
        }
      ]
    },
    {
      "cell_type": "code",
      "source": [
        "class_1_over_40 = df[(df['Pclass'] == 1) & (df['Age'] > 40)]\n",
        "print(class_1_over_40)\n"
      ],
      "metadata": {
        "colab": {
          "base_uri": "https://localhost:8080/"
        },
        "id": "8A9VGU88hd7d",
        "outputId": "3ee61232-8164-473a-c56d-0c22daf920d8"
      },
      "execution_count": null,
      "outputs": [
        {
          "output_type": "stream",
          "name": "stdout",
          "text": [
            "     PassengerId  Survived  Pclass  \\\n",
            "6              7         0       1   \n",
            "11            12         1       1   \n",
            "35            36         0       1   \n",
            "52            53         1       1   \n",
            "54            55         0       1   \n",
            "..           ...       ...     ...   \n",
            "856          857         1       1   \n",
            "857          858         1       1   \n",
            "862          863         1       1   \n",
            "871          872         1       1   \n",
            "879          880         1       1   \n",
            "\n",
            "                                                  Name     Sex   Age  SibSp  \\\n",
            "6                              McCarthy, Mr. Timothy J    male  54.0      0   \n",
            "11                            Bonnell, Miss. Elizabeth  female  58.0      0   \n",
            "35                      Holverson, Mr. Alexander Oskar    male  42.0      1   \n",
            "52            Harper, Mrs. Henry Sleeper (Myna Haxtun)  female  49.0      1   \n",
            "54                      Ostby, Mr. Engelhart Cornelius    male  65.0      0   \n",
            "..                                                 ...     ...   ...    ...   \n",
            "856         Wick, Mrs. George Dennick (Mary Hitchcock)  female  45.0      1   \n",
            "857                             Daly, Mr. Peter Denis     male  51.0      0   \n",
            "862  Swift, Mrs. Frederick Joel (Margaret Welles Ba...  female  48.0      0   \n",
            "871   Beckwith, Mrs. Richard Leonard (Sallie Monypeny)  female  47.0      1   \n",
            "879      Potter, Mrs. Thomas Jr (Lily Alexenia Wilson)  female  56.0      0   \n",
            "\n",
            "     Parch    Ticket      Fare    Cabin Embarked  \n",
            "6        0     17463   51.8625      E46        S  \n",
            "11       0    113783   26.5500     C103        S  \n",
            "35       0    113789   52.0000  Unknown        S  \n",
            "52       0  PC 17572   76.7292      D33        C  \n",
            "54       1    113509   61.9792      B30        C  \n",
            "..     ...       ...       ...      ...      ...  \n",
            "856      1     36928  164.8667  Unknown        S  \n",
            "857      0    113055   26.5500      E17        S  \n",
            "862      0     17466   25.9292      D17        S  \n",
            "871      1     11751   52.5542      D35        S  \n",
            "879      1     11767   83.1583      C50        C  \n",
            "\n",
            "[76 rows x 12 columns]\n"
          ]
        }
      ]
    },
    {
      "cell_type": "code",
      "source": [
        "survivors_in_class_1_over_40 = class_1_over_40[class_1_over_40['Survived'] == 1]\n",
        "print(survivors_in_class_1_over_40)\n"
      ],
      "metadata": {
        "colab": {
          "base_uri": "https://localhost:8080/"
        },
        "id": "HOpSPypOhiVM",
        "outputId": "6b303d6d-d44d-41a6-b0e7-553590f39e03"
      },
      "execution_count": null,
      "outputs": [
        {
          "output_type": "stream",
          "name": "stdout",
          "text": [
            "     PassengerId  Survived  Pclass  \\\n",
            "11            12         1       1   \n",
            "52            53         1       1   \n",
            "187          188         1       1   \n",
            "194          195         1       1   \n",
            "195          196         1       1   \n",
            "268          269         1       1   \n",
            "275          276         1       1   \n",
            "299          300         1       1   \n",
            "337          338         1       1   \n",
            "366          367         1       1   \n",
            "380          381         1       1   \n",
            "449          450         1       1   \n",
            "453          454         1       1   \n",
            "460          461         1       1   \n",
            "496          497         1       1   \n",
            "513          514         1       1   \n",
            "523          524         1       1   \n",
            "556          557         1       1   \n",
            "571          572         1       1   \n",
            "587          588         1       1   \n",
            "591          592         1       1   \n",
            "599          600         1       1   \n",
            "621          622         1       1   \n",
            "630          631         1       1   \n",
            "645          646         1       1   \n",
            "647          648         1       1   \n",
            "660          661         1       1   \n",
            "707          708         1       1   \n",
            "712          713         1       1   \n",
            "765          766         1       1   \n",
            "779          780         1       1   \n",
            "796          797         1       1   \n",
            "820          821         1       1   \n",
            "829          830         1       1   \n",
            "856          857         1       1   \n",
            "857          858         1       1   \n",
            "862          863         1       1   \n",
            "871          872         1       1   \n",
            "879          880         1       1   \n",
            "\n",
            "                                                  Name     Sex   Age  SibSp  \\\n",
            "11                            Bonnell, Miss. Elizabeth  female  58.0      0   \n",
            "52            Harper, Mrs. Henry Sleeper (Myna Haxtun)  female  49.0      1   \n",
            "187      Romaine, Mr. Charles Hallace (\"Mr C Rolmane\")    male  45.0      0   \n",
            "194          Brown, Mrs. James Joseph (Margaret Tobin)  female  44.0      0   \n",
            "195                               Lurette, Miss. Elise  female  58.0      0   \n",
            "268      Graham, Mrs. William Thompson (Edith Junkins)  female  58.0      0   \n",
            "275                  Andrews, Miss. Kornelia Theodosia  female  63.0      1   \n",
            "299    Baxter, Mrs. James (Helene DeLaudeniere Chaput)  female  50.0      0   \n",
            "337                    Burns, Miss. Elizabeth Margaret  female  41.0      0   \n",
            "366   Warren, Mrs. Frank Manley (Anna Sophia Atkinson)  female  60.0      1   \n",
            "380                              Bidois, Miss. Rosalie  female  42.0      0   \n",
            "449                     Peuchen, Major. Arthur Godfrey    male  52.0      0   \n",
            "453                           Goldenberg, Mr. Samuel L    male  49.0      1   \n",
            "460                                Anderson, Mr. Harry    male  48.0      0   \n",
            "496                     Eustis, Miss. Elizabeth Mussey  female  54.0      1   \n",
            "513     Rothschild, Mrs. Martin (Elizabeth L. Barrett)  female  54.0      1   \n",
            "523    Hippach, Mrs. Louis Albert (Ida Sophia Fischer)  female  44.0      0   \n",
            "556  Duff Gordon, Lady. (Lucille Christiana Sutherl...  female  48.0      1   \n",
            "571      Appleton, Mrs. Edward Dale (Charlotte Lamson)  female  53.0      2   \n",
            "587                   Frolicher-Stehli, Mr. Maxmillian    male  60.0      1   \n",
            "591    Stephenson, Mrs. Walter Bertram (Martha Eustis)  female  52.0      1   \n",
            "599       Duff Gordon, Sir. Cosmo Edmund (\"Mr Morgan\")    male  49.0      1   \n",
            "621                       Kimball, Mr. Edwin Nelson Jr    male  42.0      1   \n",
            "630               Barkworth, Mr. Algernon Henry Wilson    male  80.0      0   \n",
            "645                          Harper, Mr. Henry Sleeper    male  48.0      1   \n",
            "647                Simonius-Blumer, Col. Oberst Alfons    male  56.0      0   \n",
            "660                      Frauenthal, Dr. Henry William    male  50.0      2   \n",
            "707                  Calderhead, Mr. Edward Pennington    male  42.0      0   \n",
            "712                           Taylor, Mr. Elmer Zebley    male  48.0      1   \n",
            "765               Hogeboom, Mrs. John C (Anna Andrews)  female  51.0      1   \n",
            "779  Robert, Mrs. Edward Scott (Elisabeth Walton Mc...  female  43.0      0   \n",
            "796                        Leader, Dr. Alice (Farnham)  female  49.0      0   \n",
            "820  Hays, Mrs. Charles Melville (Clara Jennings Gr...  female  52.0      1   \n",
            "829          Stone, Mrs. George Nelson (Martha Evelyn)  female  62.0      0   \n",
            "856         Wick, Mrs. George Dennick (Mary Hitchcock)  female  45.0      1   \n",
            "857                             Daly, Mr. Peter Denis     male  51.0      0   \n",
            "862  Swift, Mrs. Frederick Joel (Margaret Welles Ba...  female  48.0      0   \n",
            "871   Beckwith, Mrs. Richard Leonard (Sallie Monypeny)  female  47.0      1   \n",
            "879      Potter, Mrs. Thomas Jr (Lily Alexenia Wilson)  female  56.0      0   \n",
            "\n",
            "     Parch    Ticket      Fare    Cabin Embarked  \n",
            "11       0    113783   26.5500     C103        S  \n",
            "52       0  PC 17572   76.7292      D33        C  \n",
            "187      0    111428   26.5500  Unknown        S  \n",
            "194      0  PC 17610   27.7208       B4        C  \n",
            "195      0  PC 17569  146.5208      B80        C  \n",
            "268      1  PC 17582  153.4625     C125        S  \n",
            "275      0     13502   77.9583       D7        S  \n",
            "299      1  PC 17558  247.5208  B58 B60        C  \n",
            "337      0     16966  134.5000      E40        C  \n",
            "366      0    110813   75.2500      D37        C  \n",
            "380      0  PC 17757  227.5250  Unknown        C  \n",
            "449      0    113786   30.5000     C104        S  \n",
            "453      0     17453   89.1042      C92        C  \n",
            "460      0     19952   26.5500      E12        S  \n",
            "496      0     36947   78.2667      D20        C  \n",
            "513      0  PC 17603   59.4000  Unknown        C  \n",
            "523      1    111361   57.9792      B18        C  \n",
            "556      0     11755   39.6000      A16        C  \n",
            "571      0     11769   51.4792     C101        S  \n",
            "587      1     13567   79.2000      B41        C  \n",
            "591      0     36947   78.2667      D20        C  \n",
            "599      0  PC 17485   56.9292      A20        C  \n",
            "621      0     11753   52.5542      D19        S  \n",
            "630      0     27042   30.0000      A23        S  \n",
            "645      0  PC 17572   76.7292      D33        C  \n",
            "647      0     13213   35.5000      A26        C  \n",
            "660      0  PC 17611  133.6500  Unknown        S  \n",
            "707      0  PC 17476   26.2875      E24        S  \n",
            "712      0     19996   52.0000     C126        S  \n",
            "765      0     13502   77.9583      D11        S  \n",
            "779      1     24160  211.3375       B3        S  \n",
            "796      0     17465   25.9292      D17        S  \n",
            "820      1     12749   93.5000      B69        S  \n",
            "829      0    113572   80.0000      B28        S  \n",
            "856      1     36928  164.8667  Unknown        S  \n",
            "857      0    113055   26.5500      E17        S  \n",
            "862      0     17466   25.9292      D17        S  \n",
            "871      1     11751   52.5542      D35        S  \n",
            "879      1     11767   83.1583      C50        C  \n"
          ]
        }
      ]
    },
    {
      "cell_type": "code",
      "source": [
        "rich_males = df[(df['Sex'] == 'male') & (df['Fare'] > 100)]\n",
        "print(rich_males)\n"
      ],
      "metadata": {
        "colab": {
          "base_uri": "https://localhost:8080/"
        },
        "id": "HfDAkSDPhlCf",
        "outputId": "30fd61ec-6517-48ba-d46c-4ea67b7bf000"
      },
      "execution_count": null,
      "outputs": [
        {
          "output_type": "stream",
          "name": "stdout",
          "text": [
            "     PassengerId  Survived  Pclass  \\\n",
            "27            28         0       1   \n",
            "118          119         0       1   \n",
            "305          306         1       1   \n",
            "332          333         0       1   \n",
            "373          374         0       1   \n",
            "377          378         0       1   \n",
            "390          391         1       1   \n",
            "438          439         0       1   \n",
            "505          506         0       1   \n",
            "527          528         0       1   \n",
            "544          545         0       1   \n",
            "550          551         1       1   \n",
            "557          558         0       1   \n",
            "659          660         0       1   \n",
            "660          661         1       1   \n",
            "679          680         1       1   \n",
            "698          699         0       1   \n",
            "737          738         1       1   \n",
            "802          803         1       1   \n",
            "\n",
            "                                           Name   Sex        Age  SibSp  \\\n",
            "27               Fortune, Mr. Charles Alexander  male  19.000000      3   \n",
            "118                    Baxter, Mr. Quigg Edmond  male  24.000000      0   \n",
            "305              Allison, Master. Hudson Trevor  male   0.920000      1   \n",
            "332                   Graham, Mr. George Edward  male  38.000000      0   \n",
            "373                         Ringhini, Mr. Sante  male  22.000000      0   \n",
            "377                   Widener, Mr. Harry Elkins  male  27.000000      0   \n",
            "390                  Carter, Mr. William Ernest  male  36.000000      1   \n",
            "438                           Fortune, Mr. Mark  male  64.000000      1   \n",
            "505  Penasco y Castellana, Mr. Victor de Satode  male  18.000000      1   \n",
            "527                          Farthing, Mr. John  male  29.699118      0   \n",
            "544                  Douglas, Mr. Walter Donald  male  50.000000      1   \n",
            "550                 Thayer, Mr. John Borland Jr  male  17.000000      0   \n",
            "557                         Robbins, Mr. Victor  male  29.699118      0   \n",
            "659                  Newell, Mr. Arthur Webster  male  58.000000      0   \n",
            "660               Frauenthal, Dr. Henry William  male  50.000000      2   \n",
            "679          Cardeza, Mr. Thomas Drake Martinez  male  36.000000      0   \n",
            "698                    Thayer, Mr. John Borland  male  49.000000      1   \n",
            "737                      Lesurer, Mr. Gustave J  male  35.000000      0   \n",
            "802         Carter, Master. William Thornton II  male  11.000000      1   \n",
            "\n",
            "     Parch    Ticket      Fare        Cabin Embarked  \n",
            "27       2     19950  263.0000  C23 C25 C27        S  \n",
            "118      1  PC 17558  247.5208      B58 B60        C  \n",
            "305      2    113781  151.5500      C22 C26        S  \n",
            "332      1  PC 17582  153.4625          C91        S  \n",
            "373      0  PC 17760  135.6333      Unknown        C  \n",
            "377      2    113503  211.5000          C82        C  \n",
            "390      2    113760  120.0000      B96 B98        S  \n",
            "438      4     19950  263.0000  C23 C25 C27        S  \n",
            "505      0  PC 17758  108.9000          C65        C  \n",
            "527      0  PC 17483  221.7792          C95        S  \n",
            "544      0  PC 17761  106.4250          C86        C  \n",
            "550      2     17421  110.8833          C70        C  \n",
            "557      0  PC 17757  227.5250      Unknown        C  \n",
            "659      2     35273  113.2750          D48        C  \n",
            "660      0  PC 17611  133.6500      Unknown        S  \n",
            "679      1  PC 17755  512.3292  B51 B53 B55        C  \n",
            "698      1     17421  110.8833          C68        C  \n",
            "737      0  PC 17755  512.3292         B101        C  \n",
            "802      2    113760  120.0000      B96 B98        S  \n"
          ]
        }
      ]
    },
    {
      "cell_type": "code",
      "source": [
        "embarked_C_class_2 = df[(df['Embarked'] == 'C') & (df['Pclass'] == 2)]\n",
        "print(embarked_C_class_2)\n"
      ],
      "metadata": {
        "colab": {
          "base_uri": "https://localhost:8080/"
        },
        "id": "V4JdQXgYhxh-",
        "outputId": "8750d2c9-5e7a-400a-d125-d3cab24e7333"
      },
      "execution_count": null,
      "outputs": [
        {
          "output_type": "stream",
          "name": "stdout",
          "text": [
            "     PassengerId  Survived  Pclass  \\\n",
            "9             10         1       2   \n",
            "43            44         1       2   \n",
            "122          123         0       2   \n",
            "135          136         0       2   \n",
            "181          182         0       2   \n",
            "292          293         0       2   \n",
            "308          309         0       2   \n",
            "361          362         0       2   \n",
            "389          390         1       2   \n",
            "473          474         1       2   \n",
            "547          548         1       2   \n",
            "608          609         1       2   \n",
            "685          686         0       2   \n",
            "817          818         0       2   \n",
            "827          828         1       2   \n",
            "866          867         1       2   \n",
            "874          875         1       2   \n",
            "\n",
            "                                                  Name     Sex        Age  \\\n",
            "9                  Nasser, Mrs. Nicholas (Adele Achem)  female  14.000000   \n",
            "43            Laroche, Miss. Simonne Marie Anne Andree  female   3.000000   \n",
            "122                               Nasser, Mr. Nicholas    male  32.500000   \n",
            "135                                 Richard, Mr. Emile    male  23.000000   \n",
            "181                                   Pernot, Mr. Rene    male  29.699118   \n",
            "292                             Levy, Mr. Rene Jacques    male  36.000000   \n",
            "308                                Abelson, Mr. Samuel    male  30.000000   \n",
            "361                          del Carlo, Mr. Sebastiano    male  29.000000   \n",
            "389                              Lehmann, Miss. Bertha  female  17.000000   \n",
            "473       Jerwan, Mrs. Amin S (Marie Marthe Thuillard)  female  23.000000   \n",
            "547                         Padro y Manent, Mr. Julian    male  29.699118   \n",
            "608  Laroche, Mrs. Joseph (Juliette Marie Louise La...  female  22.000000   \n",
            "685             Laroche, Mr. Joseph Philippe Lemercier    male  25.000000   \n",
            "817                                 Mallet, Mr. Albert    male  31.000000   \n",
            "827                              Mallet, Master. Andre    male   1.000000   \n",
            "866                       Duran y More, Miss. Asuncion  female  27.000000   \n",
            "874              Abelson, Mrs. Samuel (Hannah Wizosky)  female  28.000000   \n",
            "\n",
            "     SibSp  Parch           Ticket     Fare    Cabin Embarked  \n",
            "9        1      0           237736  30.0708  Unknown        C  \n",
            "43       1      2    SC/Paris 2123  41.5792  Unknown        C  \n",
            "122      1      0           237736  30.0708  Unknown        C  \n",
            "135      0      0    SC/PARIS 2133  15.0458  Unknown        C  \n",
            "181      0      0    SC/PARIS 2131  15.0500  Unknown        C  \n",
            "292      0      0    SC/Paris 2163  12.8750        D        C  \n",
            "308      1      0        P/PP 3381  24.0000  Unknown        C  \n",
            "361      1      0    SC/PARIS 2167  27.7208  Unknown        C  \n",
            "389      0      0          SC 1748  12.0000  Unknown        C  \n",
            "473      0      0  SC/AH Basle 541  13.7917        D        C  \n",
            "547      0      0    SC/PARIS 2146  13.8625  Unknown        C  \n",
            "608      1      2    SC/Paris 2123  41.5792  Unknown        C  \n",
            "685      1      2    SC/Paris 2123  41.5792  Unknown        C  \n",
            "817      1      1  S.C./PARIS 2079  37.0042  Unknown        C  \n",
            "827      0      2  S.C./PARIS 2079  37.0042  Unknown        C  \n",
            "866      1      0    SC/PARIS 2149  13.8583  Unknown        C  \n",
            "874      1      0        P/PP 3381  24.0000  Unknown        C  \n"
          ]
        }
      ]
    },
    {
      "cell_type": "code",
      "source": [
        "sibsp_more_than_2 = df[df['SibSp'] > 2]\n",
        "print(sibsp_more_than_2)\n"
      ],
      "metadata": {
        "colab": {
          "base_uri": "https://localhost:8080/"
        },
        "id": "p88qhiozh0BI",
        "outputId": "0ea3e90b-ff09-4c6b-d087-c3938fdcadd5"
      },
      "execution_count": null,
      "outputs": [
        {
          "output_type": "stream",
          "name": "stdout",
          "text": [
            "     PassengerId  Survived  Pclass  \\\n",
            "7              8         0       3   \n",
            "16            17         0       3   \n",
            "24            25         0       3   \n",
            "27            28         0       1   \n",
            "50            51         0       3   \n",
            "59            60         0       3   \n",
            "63            64         0       3   \n",
            "68            69         1       3   \n",
            "71            72         0       3   \n",
            "85            86         1       3   \n",
            "88            89         1       1   \n",
            "119          120         0       3   \n",
            "159          160         0       3   \n",
            "164          165         0       3   \n",
            "171          172         0       3   \n",
            "176          177         0       3   \n",
            "180          181         0       3   \n",
            "182          183         0       3   \n",
            "201          202         0       3   \n",
            "229          230         0       3   \n",
            "233          234         1       3   \n",
            "261          262         1       3   \n",
            "266          267         0       3   \n",
            "278          279         0       3   \n",
            "324          325         0       3   \n",
            "341          342         1       1   \n",
            "374          375         0       3   \n",
            "386          387         0       3   \n",
            "409          410         0       3   \n",
            "480          481         0       3   \n",
            "485          486         0       3   \n",
            "541          542         0       3   \n",
            "542          543         0       3   \n",
            "634          635         0       3   \n",
            "642          643         0       3   \n",
            "683          684         0       3   \n",
            "686          687         0       3   \n",
            "726          727         1       2   \n",
            "787          788         0       3   \n",
            "792          793         0       3   \n",
            "813          814         0       3   \n",
            "819          820         0       3   \n",
            "824          825         0       3   \n",
            "846          847         0       3   \n",
            "850          851         0       3   \n",
            "863          864         0       3   \n",
            "\n",
            "                                                  Name     Sex        Age  \\\n",
            "7                       Palsson, Master. Gosta Leonard    male   2.000000   \n",
            "16                                Rice, Master. Eugene    male   2.000000   \n",
            "24                       Palsson, Miss. Torborg Danira  female   8.000000   \n",
            "27                      Fortune, Mr. Charles Alexander    male  19.000000   \n",
            "50                          Panula, Master. Juha Niilo    male   7.000000   \n",
            "59                  Goodwin, Master. William Frederick    male  11.000000   \n",
            "63                               Skoog, Master. Harald    male   4.000000   \n",
            "68                     Andersson, Miss. Erna Alexandra  female  17.000000   \n",
            "71                          Goodwin, Miss. Lillian Amy  female  16.000000   \n",
            "85   Backstrom, Mrs. Karl Alfred (Maria Mathilda Gu...  female  33.000000   \n",
            "88                          Fortune, Miss. Mabel Helen  female  23.000000   \n",
            "119                  Andersson, Miss. Ellis Anna Maria  female   2.000000   \n",
            "159                         Sage, Master. Thomas Henry    male  29.699118   \n",
            "164                       Panula, Master. Eino Viljami    male   1.000000   \n",
            "171                               Rice, Master. Arthur    male   4.000000   \n",
            "176                      Lefebre, Master. Henry Forbes    male  29.699118   \n",
            "180                       Sage, Miss. Constance Gladys  female  29.699118   \n",
            "182              Asplund, Master. Clarence Gustaf Hugo    male   9.000000   \n",
            "201                                Sage, Mr. Frederick    male  29.699118   \n",
            "229                            Lefebre, Miss. Mathilde  female  29.699118   \n",
            "233                     Asplund, Miss. Lillian Gertrud  female   5.000000   \n",
            "261                  Asplund, Master. Edvin Rojj Felix    male   3.000000   \n",
            "266                          Panula, Mr. Ernesti Arvid    male  16.000000   \n",
            "278                                 Rice, Master. Eric    male   7.000000   \n",
            "324                           Sage, Mr. George John Jr    male  29.699118   \n",
            "341                     Fortune, Miss. Alice Elizabeth  female  24.000000   \n",
            "374                         Palsson, Miss. Stina Viola  female   3.000000   \n",
            "386                    Goodwin, Master. Sidney Leonard    male   1.000000   \n",
            "409                                 Lefebre, Miss. Ida  female  29.699118   \n",
            "480                     Goodwin, Master. Harold Victor    male   9.000000   \n",
            "485                             Lefebre, Miss. Jeannie  female  29.699118   \n",
            "541               Andersson, Miss. Ingeborg Constanzia  female   9.000000   \n",
            "542                  Andersson, Miss. Sigrid Elisabeth  female  11.000000   \n",
            "634                                 Skoog, Miss. Mabel  female   9.000000   \n",
            "642                      Skoog, Miss. Margit Elizabeth  female   2.000000   \n",
            "683                        Goodwin, Mr. Charles Edward    male  14.000000   \n",
            "686                           Panula, Mr. Jaako Arnold    male  14.000000   \n",
            "726        Renouf, Mrs. Peter Henry (Lillian Jefferys)  female  30.000000   \n",
            "787                          Rice, Master. George Hugh    male   8.000000   \n",
            "792                            Sage, Miss. Stella Anna  female  29.699118   \n",
            "813                 Andersson, Miss. Ebba Iris Alfrida  female   6.000000   \n",
            "819                       Skoog, Master. Karl Thorsten    male  10.000000   \n",
            "824                       Panula, Master. Urho Abraham    male   2.000000   \n",
            "846                           Sage, Mr. Douglas Bullen    male  29.699118   \n",
            "850            Andersson, Master. Sigvard Harald Elias    male   4.000000   \n",
            "863                  Sage, Miss. Dorothy Edith \"Dolly\"  female  29.699118   \n",
            "\n",
            "     SibSp  Parch    Ticket      Fare        Cabin Embarked  \n",
            "7        3      1    349909   21.0750      Unknown        S  \n",
            "16       4      1    382652   29.1250      Unknown        Q  \n",
            "24       3      1    349909   21.0750      Unknown        S  \n",
            "27       3      2     19950  263.0000  C23 C25 C27        S  \n",
            "50       4      1   3101295   39.6875      Unknown        S  \n",
            "59       5      2   CA 2144   46.9000      Unknown        S  \n",
            "63       3      2    347088   27.9000      Unknown        S  \n",
            "68       4      2   3101281    7.9250      Unknown        S  \n",
            "71       5      2   CA 2144   46.9000      Unknown        S  \n",
            "85       3      0   3101278   15.8500      Unknown        S  \n",
            "88       3      2     19950  263.0000  C23 C25 C27        S  \n",
            "119      4      2    347082   31.2750      Unknown        S  \n",
            "159      8      2  CA. 2343   69.5500      Unknown        S  \n",
            "164      4      1   3101295   39.6875      Unknown        S  \n",
            "171      4      1    382652   29.1250      Unknown        Q  \n",
            "176      3      1      4133   25.4667      Unknown        S  \n",
            "180      8      2  CA. 2343   69.5500      Unknown        S  \n",
            "182      4      2    347077   31.3875      Unknown        S  \n",
            "201      8      2  CA. 2343   69.5500      Unknown        S  \n",
            "229      3      1      4133   25.4667      Unknown        S  \n",
            "233      4      2    347077   31.3875      Unknown        S  \n",
            "261      4      2    347077   31.3875      Unknown        S  \n",
            "266      4      1   3101295   39.6875      Unknown        S  \n",
            "278      4      1    382652   29.1250      Unknown        Q  \n",
            "324      8      2  CA. 2343   69.5500      Unknown        S  \n",
            "341      3      2     19950  263.0000  C23 C25 C27        S  \n",
            "374      3      1    349909   21.0750      Unknown        S  \n",
            "386      5      2   CA 2144   46.9000      Unknown        S  \n",
            "409      3      1      4133   25.4667      Unknown        S  \n",
            "480      5      2   CA 2144   46.9000      Unknown        S  \n",
            "485      3      1      4133   25.4667      Unknown        S  \n",
            "541      4      2    347082   31.2750      Unknown        S  \n",
            "542      4      2    347082   31.2750      Unknown        S  \n",
            "634      3      2    347088   27.9000      Unknown        S  \n",
            "642      3      2    347088   27.9000      Unknown        S  \n",
            "683      5      2   CA 2144   46.9000      Unknown        S  \n",
            "686      4      1   3101295   39.6875      Unknown        S  \n",
            "726      3      0     31027   21.0000      Unknown        S  \n",
            "787      4      1    382652   29.1250      Unknown        Q  \n",
            "792      8      2  CA. 2343   69.5500      Unknown        S  \n",
            "813      4      2    347082   31.2750      Unknown        S  \n",
            "819      3      2    347088   27.9000      Unknown        S  \n",
            "824      4      1   3101295   39.6875      Unknown        S  \n",
            "846      8      2  CA. 2343   69.5500      Unknown        S  \n",
            "850      4      2    347082   31.2750      Unknown        S  \n",
            "863      8      2  CA. 2343   69.5500      Unknown        S  \n"
          ]
        }
      ]
    },
    {
      "cell_type": "code",
      "source": [
        "no_family_not_survived = df[(df['SibSp'] == 0) & (df['Parch'] == 0) & (df['Survived'] == 0)]\n",
        "print(no_family_not_survived)\n"
      ],
      "metadata": {
        "colab": {
          "base_uri": "https://localhost:8080/"
        },
        "id": "OuB6yvT9h60O",
        "outputId": "43b6ed04-aea5-4cfa-ddcd-f2897d4407f1"
      },
      "execution_count": null,
      "outputs": [
        {
          "output_type": "stream",
          "name": "stdout",
          "text": [
            "     PassengerId  Survived  Pclass                                  Name  \\\n",
            "4              5         0       3              Allen, Mr. William Henry   \n",
            "5              6         0       3                      Moran, Mr. James   \n",
            "6              7         0       1               McCarthy, Mr. Timothy J   \n",
            "12            13         0       3        Saundercock, Mr. William Henry   \n",
            "14            15         0       3  Vestrom, Miss. Hulda Amanda Adolfina   \n",
            "..           ...       ...     ...                                   ...   \n",
            "882          883         0       3          Dahlberg, Miss. Gerda Ulrika   \n",
            "883          884         0       2         Banfield, Mr. Frederick James   \n",
            "884          885         0       3                Sutehall, Mr. Henry Jr   \n",
            "886          887         0       2                 Montvila, Rev. Juozas   \n",
            "890          891         0       3                   Dooley, Mr. Patrick   \n",
            "\n",
            "        Sex        Age  SibSp  Parch            Ticket     Fare    Cabin  \\\n",
            "4      male  35.000000      0      0            373450   8.0500  Unknown   \n",
            "5      male  29.699118      0      0            330877   8.4583  Unknown   \n",
            "6      male  54.000000      0      0             17463  51.8625      E46   \n",
            "12     male  20.000000      0      0         A/5. 2151   8.0500  Unknown   \n",
            "14   female  14.000000      0      0            350406   7.8542  Unknown   \n",
            "..      ...        ...    ...    ...               ...      ...      ...   \n",
            "882  female  22.000000      0      0              7552  10.5167  Unknown   \n",
            "883    male  28.000000      0      0  C.A./SOTON 34068  10.5000  Unknown   \n",
            "884    male  25.000000      0      0   SOTON/OQ 392076   7.0500  Unknown   \n",
            "886    male  27.000000      0      0            211536  13.0000  Unknown   \n",
            "890    male  32.000000      0      0            370376   7.7500  Unknown   \n",
            "\n",
            "    Embarked  \n",
            "4          S  \n",
            "5          Q  \n",
            "6          S  \n",
            "12         S  \n",
            "14         S  \n",
            "..       ...  \n",
            "882        S  \n",
            "883        S  \n",
            "884        S  \n",
            "886        S  \n",
            "890        Q  \n",
            "\n",
            "[374 rows x 12 columns]\n"
          ]
        }
      ]
    },
    {
      "cell_type": "code",
      "source": [
        "oldest_survivors = df[df['Survived'] == 1].sort_values(by='Age', ascending=False).head(5)\n",
        "print(oldest_survivors)\n"
      ],
      "metadata": {
        "colab": {
          "base_uri": "https://localhost:8080/"
        },
        "id": "FEupk5MEh9_n",
        "outputId": "006b7d80-1b15-43c7-8e92-19b8d751eca6"
      },
      "execution_count": null,
      "outputs": [
        {
          "output_type": "stream",
          "name": "stdout",
          "text": [
            "     PassengerId  Survived  Pclass                                       Name  \\\n",
            "630          631         1       1       Barkworth, Mr. Algernon Henry Wilson   \n",
            "275          276         1       1          Andrews, Miss. Kornelia Theodosia   \n",
            "483          484         1       3                     Turkula, Mrs. (Hedwig)   \n",
            "570          571         1       2                         Harris, Mr. George   \n",
            "829          830         1       1  Stone, Mrs. George Nelson (Martha Evelyn)   \n",
            "\n",
            "        Sex   Age  SibSp  Parch       Ticket     Fare    Cabin Embarked  \n",
            "630    male  80.0      0      0        27042  30.0000      A23        S  \n",
            "275  female  63.0      1      0        13502  77.9583       D7        S  \n",
            "483  female  63.0      0      0         4134   9.5875  Unknown        S  \n",
            "570    male  62.0      0      0  S.W./PP 752  10.5000  Unknown        S  \n",
            "829  female  62.0      0      0       113572  80.0000      B28        S  \n"
          ]
        }
      ]
    },
    {
      "cell_type": "code",
      "source": [
        "free_passengers = df[df['Fare'] == 0]\n",
        "print(free_passengers)\n"
      ],
      "metadata": {
        "colab": {
          "base_uri": "https://localhost:8080/"
        },
        "id": "hsozKHrNh_Rh",
        "outputId": "8121c0f0-a7a9-401a-c3e2-3be5894fb753"
      },
      "execution_count": null,
      "outputs": [
        {
          "output_type": "stream",
          "name": "stdout",
          "text": [
            "     PassengerId  Survived  Pclass                              Name   Sex  \\\n",
            "179          180         0       3               Leonard, Mr. Lionel  male   \n",
            "263          264         0       1             Harrison, Mr. William  male   \n",
            "271          272         1       3      Tornquist, Mr. William Henry  male   \n",
            "277          278         0       2       Parkes, Mr. Francis \"Frank\"  male   \n",
            "302          303         0       3   Johnson, Mr. William Cahoone Jr  male   \n",
            "413          414         0       2    Cunningham, Mr. Alfred Fleming  male   \n",
            "466          467         0       2             Campbell, Mr. William  male   \n",
            "481          482         0       2  Frost, Mr. Anthony Wood \"Archie\"  male   \n",
            "597          598         0       3               Johnson, Mr. Alfred  male   \n",
            "633          634         0       1     Parr, Mr. William Henry Marsh  male   \n",
            "674          675         0       2        Watson, Mr. Ennis Hastings  male   \n",
            "732          733         0       2              Knight, Mr. Robert J  male   \n",
            "806          807         0       1            Andrews, Mr. Thomas Jr  male   \n",
            "815          816         0       1                  Fry, Mr. Richard  male   \n",
            "822          823         0       1   Reuchlin, Jonkheer. John George  male   \n",
            "\n",
            "           Age  SibSp  Parch  Ticket  Fare    Cabin Embarked  \n",
            "179  36.000000      0      0    LINE   0.0  Unknown        S  \n",
            "263  40.000000      0      0  112059   0.0      B94        S  \n",
            "271  25.000000      0      0    LINE   0.0  Unknown        S  \n",
            "277  29.699118      0      0  239853   0.0  Unknown        S  \n",
            "302  19.000000      0      0    LINE   0.0  Unknown        S  \n",
            "413  29.699118      0      0  239853   0.0  Unknown        S  \n",
            "466  29.699118      0      0  239853   0.0  Unknown        S  \n",
            "481  29.699118      0      0  239854   0.0  Unknown        S  \n",
            "597  49.000000      0      0    LINE   0.0  Unknown        S  \n",
            "633  29.699118      0      0  112052   0.0  Unknown        S  \n",
            "674  29.699118      0      0  239856   0.0  Unknown        S  \n",
            "732  29.699118      0      0  239855   0.0  Unknown        S  \n",
            "806  39.000000      0      0  112050   0.0      A36        S  \n",
            "815  29.699118      0      0  112058   0.0     B102        S  \n",
            "822  38.000000      0      0   19972   0.0  Unknown        S  \n"
          ]
        }
      ]
    },
    {
      "cell_type": "code",
      "source": [
        "X = df.drop(columns=['Survived', 'Name', 'Ticket', 'Cabin'])\n",
        "X = pd.get_dummies(X, drop_first=True)\n",
        "y = df['Survived']\n",
        "\n",
        "X_train, X_test, y_train, y_test = train_test_split(X, y, test_size=0.2, random_state=42)\n",
        "\n",
        "print(\"Training set size:\", X_train.shape)\n",
        "print(\"Testing set size:\", X_test.shape)\n"
      ],
      "metadata": {
        "colab": {
          "base_uri": "https://localhost:8080/"
        },
        "id": "esTDR8zsiDkB",
        "outputId": "de831b3d-88d5-40eb-e07e-b99c7414482b"
      },
      "execution_count": null,
      "outputs": [
        {
          "output_type": "stream",
          "name": "stdout",
          "text": [
            "Training set size: (712, 9)\n",
            "Testing set size: (179, 9)\n"
          ]
        }
      ]
    }
  ]
}